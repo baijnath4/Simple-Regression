{
 "cells": [
  {
   "cell_type": "code",
   "execution_count": 1,
   "id": "86ac7982",
   "metadata": {},
   "outputs": [],
   "source": [
    "#simple linear regression"
   ]
  },
  {
   "cell_type": "code",
   "execution_count": 2,
   "id": "9ef72935",
   "metadata": {},
   "outputs": [],
   "source": [
    "import pandas as pd"
   ]
  },
  {
   "cell_type": "code",
   "execution_count": 51,
   "id": "5c500228",
   "metadata": {},
   "outputs": [],
   "source": [
    "orFile=pd.read_csv(\"01Students.csv\")"
   ]
  },
  {
   "cell_type": "code",
   "execution_count": 52,
   "id": "27e3630f",
   "metadata": {},
   "outputs": [],
   "source": [
    "dataFile=orFile.copy()"
   ]
  },
  {
   "cell_type": "code",
   "execution_count": 53,
   "id": "b7f9fa8c",
   "metadata": {},
   "outputs": [],
   "source": [
    "#Split data"
   ]
  },
  {
   "cell_type": "code",
   "execution_count": 54,
   "id": "dc44f6c6",
   "metadata": {},
   "outputs": [],
   "source": [
    "x=dataFile.iloc[:,:-1]"
   ]
  },
  {
   "cell_type": "code",
   "execution_count": 55,
   "id": "064be92b",
   "metadata": {},
   "outputs": [],
   "source": [
    "y=dataFile.iloc[:,-1]"
   ]
  },
  {
   "cell_type": "code",
   "execution_count": 56,
   "id": "b595d9a4",
   "metadata": {},
   "outputs": [],
   "source": [
    "from sklearn.model_selection import train_test_split"
   ]
  },
  {
   "cell_type": "code",
   "execution_count": 57,
   "id": "c8fa8872",
   "metadata": {},
   "outputs": [],
   "source": [
    "x_train,x_test,y_train,y_test=train_test_split(x,y,test_size=.3,random_state=123)"
   ]
  },
  {
   "cell_type": "code",
   "execution_count": 58,
   "id": "fa229d6e",
   "metadata": {},
   "outputs": [
    {
     "data": {
      "text/plain": [
       "(21, 9, 21, 9)"
      ]
     },
     "execution_count": 58,
     "metadata": {},
     "output_type": "execute_result"
    }
   ],
   "source": [
    "len(x_train),len(x_test),len(y_train),len(y_test)"
   ]
  },
  {
   "cell_type": "code",
   "execution_count": 59,
   "id": "a2f391f1",
   "metadata": {},
   "outputs": [],
   "source": [
    "from sklearn.linear_model import LinearRegression"
   ]
  },
  {
   "cell_type": "code",
   "execution_count": 60,
   "id": "87e7faa1",
   "metadata": {},
   "outputs": [],
   "source": [
    "lsr=LinearRegression()"
   ]
  },
  {
   "cell_type": "code",
   "execution_count": 61,
   "id": "f13c76ed",
   "metadata": {},
   "outputs": [
    {
     "data": {
      "text/plain": [
       "LinearRegression()"
      ]
     },
     "execution_count": 61,
     "metadata": {},
     "output_type": "execute_result"
    }
   ],
   "source": [
    "lsr.fit(x_train,y_train)"
   ]
  },
  {
   "cell_type": "code",
   "execution_count": 62,
   "id": "28ea87ee",
   "metadata": {},
   "outputs": [],
   "source": [
    "#Predict the result"
   ]
  },
  {
   "cell_type": "code",
   "execution_count": 63,
   "id": "540cd3f8",
   "metadata": {},
   "outputs": [],
   "source": [
    "y_predit=lsr.predict(x_test)"
   ]
  },
  {
   "cell_type": "code",
   "execution_count": 64,
   "id": "0fdfc2a0",
   "metadata": {},
   "outputs": [],
   "source": [
    "#get the r square"
   ]
  },
  {
   "cell_type": "code",
   "execution_count": 65,
   "id": "7e612d62",
   "metadata": {},
   "outputs": [],
   "source": [
    "scor1=lsr.score(x_test,y_test)"
   ]
  },
  {
   "cell_type": "code",
   "execution_count": 66,
   "id": "8a341fcd",
   "metadata": {},
   "outputs": [],
   "source": [
    "#coefficient and intercept"
   ]
  },
  {
   "cell_type": "code",
   "execution_count": 67,
   "id": "a10df63a",
   "metadata": {},
   "outputs": [],
   "source": [
    "coffst=lsr.coef_\n"
   ]
  },
  {
   "cell_type": "code",
   "execution_count": 68,
   "id": "b5d74543",
   "metadata": {},
   "outputs": [],
   "source": [
    "interst=lsr.intercept_"
   ]
  },
  {
   "cell_type": "code",
   "execution_count": 69,
   "id": "fb12a1c8",
   "metadata": {},
   "outputs": [
    {
     "data": {
      "text/plain": [
       "(array([5.35821984]), 33.81444552529183)"
      ]
     },
     "execution_count": 69,
     "metadata": {},
     "output_type": "execute_result"
    }
   ],
   "source": [
    "coffst, interst"
   ]
  },
  {
   "cell_type": "code",
   "execution_count": 70,
   "id": "d13e6d62",
   "metadata": {},
   "outputs": [],
   "source": [
    "#y=34.81 + 5.3*x"
   ]
  },
  {
   "cell_type": "code",
   "execution_count": 71,
   "id": "ca987e68",
   "metadata": {},
   "outputs": [],
   "source": [
    "\n",
    "#calcuate root mean square error"
   ]
  },
  {
   "cell_type": "code",
   "execution_count": 72,
   "id": "f5554e56",
   "metadata": {},
   "outputs": [],
   "source": [
    "from sklearn.metrics import mean_squared_error"
   ]
  },
  {
   "cell_type": "code",
   "execution_count": 73,
   "id": "7da2da72",
   "metadata": {},
   "outputs": [],
   "source": [
    "import math"
   ]
  },
  {
   "cell_type": "code",
   "execution_count": 74,
   "id": "b58ff43d",
   "metadata": {},
   "outputs": [],
   "source": [
    "lsr_rmse=math.sqrt(mean_squared_error(y_test,y_predit))"
   ]
  },
  {
   "cell_type": "code",
   "execution_count": 78,
   "id": "c6c5d091",
   "metadata": {},
   "outputs": [],
   "source": [
    "import matplotlib.pyplot as plt"
   ]
  },
  {
   "cell_type": "code",
   "execution_count": 82,
   "id": "9c978f5e",
   "metadata": {},
   "outputs": [
    {
     "data": {
      "image/png": "[encoded data removed]",
      "text/plain": [
       "<Figure size 432x288 with 1 Axes>"
      ]
     },
     "metadata": {
      "needs_background": "light"
     },
     "output_type": "display_data"
    }
   ],
   "source": [
    "plt.scatter(x_test,y_test)\n",
    "plt.plot(x_test,y_predit)\n",
    "plt.ylim(ymin=0)\n",
    "plt.show()"
   ]
  },
  {
   "cell_type": "code",
   "execution_count": null,
   "id": "2ad0eccf",
   "metadata": {},
   "outputs": [],
   "source": []
  }
 ],
 "metadata": {
  "kernelspec": {
   "display_name": "Python 3 (ipykernel)",
   "language": "python",
   "name": "python3"
  },
  "language_info": {
   "codemirror_mode": {
    "name": "ipython",
    "version": 3
   },
   "file_extension": ".py",
   "mimetype": "text/x-python",
   "name": "python",
   "nbconvert_exporter": "python",
   "pygments_lexer": "ipython3",
   "version": "3.9.7"
  }
 },
 "nbformat": 4,
 "nbformat_minor": 5
}
